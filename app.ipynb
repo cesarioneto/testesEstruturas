{
  "nbformat": 4,
  "nbformat_minor": 0,
  "metadata": {
    "colab": {
      "name": "aula3_maratona.ipynb",
      "provenance": [],
      "collapsed_sections": [],
      "include_colab_link": true
    },
    "kernelspec": {
      "name": "python3",
      "display_name": "Python 3"
    }
  },
  "cells": [
    {
      "cell_type": "markdown",
      "metadata": {
        "id": "view-in-github",
        "colab_type": "text"
      },
      "source": [
        "<a href=\"https://colab.research.google.com/github/cesarioneto/testesEstruturas/blob/master/app.ipynb\" target=\"_parent\"><img src=\"https://colab.research.google.com/assets/colab-badge.svg\" alt=\"Open In Colab\"/></a>"
      ]
    },
    {
      "cell_type": "markdown",
      "metadata": {
        "id": "l8D_ZDsg9vVA"
      },
      "source": [
        "### **Guia Passo a Passo** para Implementação do Sistema de Aprovação de Empréstimo Online:"
      ]
    },
    {
      "cell_type": "markdown",
      "metadata": {
        "id": "BWnqIW7vWONv"
      },
      "source": [
        "###### **Observação**: Caso não esteja fazendo as aulas sequencialmente e tenha desligado a sessão no Colab, reexecute o Script abaixo antes de ir para o 1°Passo."
      ]
    },
    {
      "cell_type": "code",
      "metadata": {
        "id": "c6kMyerHB4tv"
      },
      "source": [
        "## Pacotes\n",
        "import pandas as pd     #Biblioteca de Funções de Manipulação de Dados\n",
        "import seaborn as sns   #Biblioteca de Funções de Visualização Gráfica\n",
        "import warnings\n",
        "warnings.filterwarnings(\"ignore\")\n",
        "\n",
        "#Importação dos Dados\n",
        "clientes = pd.read_csv('/content/clientes.csv')\n",
        "\n",
        "#Substituindo caracteres por números\n",
        "clientes['sexo']= clientes['sexo'].map({'Male':0, 'Female':1})\n",
        "clientes['estado_civil']= clientes['estado_civil'].map({'No':0, 'Yes':1})\n",
        "clientes['aprovacao_emprestimo']= clientes['aprovacao_emprestimo'].map({'N':0, 'Y':1})\n",
        "\n",
        "# Eliminando valores Nulos\n",
        "clientes = clientes.dropna()\n",
        "\n",
        "# Separando variáveis Explicativas e Variável TARGET\n",
        "X = clientes[['sexo', 'estado_civil', 'renda', 'emprestimo', 'historico_credito']]\n",
        "y = clientes.aprovacao_emprestimo\n",
        "X.shape, y.shape\n",
        "\n",
        "# importando Pacote para Amostragem dos Dados\n",
        "from sklearn.model_selection import train_test_split\n",
        "\n",
        "# Realizando Amostragem dosa Dados\n",
        "x_train, x_teste, y_train, y_teste = train_test_split(X,y, test_size = 0.2, random_state = 7)\n",
        "\n",
        "#Importando Pacotes para Construção das Máquinas Preditivas com Machine Learning\n",
        "\n",
        "## Algoritmo Random Forest\n",
        "from sklearn.ensemble import RandomForestClassifier \n",
        "\n",
        "#Importando a Métrica de Avaliação\n",
        "from sklearn.metrics import accuracy_score\n",
        "\n",
        "# Criando a Máquina Preditiva com o Random Forest \n",
        "maquina = RandomForestClassifier(max_depth=4, random_state = 7) \n",
        "maquina.fit(x_train, y_train)\n",
        "\n",
        "#Avaliando a Acurácia da Máquina Preditiva Baseline com dados de Teste\n",
        "pred_maquina_teste = maquina.predict(x_teste)\n",
        "accuracy_score(y_teste,pred_maquina_teste)\n",
        "\n",
        "#Comando de Salvamento da Máquina Preditiva\n",
        "import pickle \n",
        "pickle_out = open(\"maquina_preditiva.pkl\", mode = \"wb\") \n",
        "pickle.dump(maquina, pickle_out) \n",
        "pickle_out.close()"
      ],
      "execution_count": null,
      "outputs": []
    },
    {
      "cell_type": "markdown",
      "metadata": {
        "id": "eZ5JvDVuw1Eq"
      },
      "source": [
        "##1° Instalar o Pacote para Conexão do nosso Sistema na WEB"
      ]
    },
    {
      "cell_type": "code",
      "metadata": {
        "id": "SSaPBHuDDwx3",
        "colab": {
          "base_uri": "https://localhost:8080/"
        },
        "outputId": "8fe3565a-5e13-49da-d77c-c2315a7f0f78"
      },
      "source": [
        "#instalação do Pacote para Conexão do nosso Sistema na WEB \n",
        "!pip install -q pyngrok\n"
      ],
      "execution_count": null,
      "outputs": [
        {
          "output_type": "stream",
          "name": "stdout",
          "text": [
            "\u001b[?25l\r\u001b[K     |▍                               | 10 kB 19.6 MB/s eta 0:00:01\r\u001b[K     |▉                               | 20 kB 24.2 MB/s eta 0:00:01\r\u001b[K     |█▎                              | 30 kB 27.3 MB/s eta 0:00:01\r\u001b[K     |█▊                              | 40 kB 28.7 MB/s eta 0:00:01\r\u001b[K     |██▏                             | 51 kB 30.6 MB/s eta 0:00:01\r\u001b[K     |██▋                             | 61 kB 31.6 MB/s eta 0:00:01\r\u001b[K     |███                             | 71 kB 29.2 MB/s eta 0:00:01\r\u001b[K     |███▌                            | 81 kB 30.9 MB/s eta 0:00:01\r\u001b[K     |████                            | 92 kB 29.1 MB/s eta 0:00:01\r\u001b[K     |████▍                           | 102 kB 30.7 MB/s eta 0:00:01\r\u001b[K     |████▉                           | 112 kB 30.7 MB/s eta 0:00:01\r\u001b[K     |█████▎                          | 122 kB 30.7 MB/s eta 0:00:01\r\u001b[K     |█████▊                          | 133 kB 30.7 MB/s eta 0:00:01\r\u001b[K     |██████▏                         | 143 kB 30.7 MB/s eta 0:00:01\r\u001b[K     |██████▋                         | 153 kB 30.7 MB/s eta 0:00:01\r\u001b[K     |███████                         | 163 kB 30.7 MB/s eta 0:00:01\r\u001b[K     |███████▌                        | 174 kB 30.7 MB/s eta 0:00:01\r\u001b[K     |████████                        | 184 kB 30.7 MB/s eta 0:00:01\r\u001b[K     |████████▍                       | 194 kB 30.7 MB/s eta 0:00:01\r\u001b[K     |████████▉                       | 204 kB 30.7 MB/s eta 0:00:01\r\u001b[K     |█████████▎                      | 215 kB 30.7 MB/s eta 0:00:01\r\u001b[K     |█████████▊                      | 225 kB 30.7 MB/s eta 0:00:01\r\u001b[K     |██████████▏                     | 235 kB 30.7 MB/s eta 0:00:01\r\u001b[K     |██████████▌                     | 245 kB 30.7 MB/s eta 0:00:01\r\u001b[K     |███████████                     | 256 kB 30.7 MB/s eta 0:00:01\r\u001b[K     |███████████▍                    | 266 kB 30.7 MB/s eta 0:00:01\r\u001b[K     |███████████▉                    | 276 kB 30.7 MB/s eta 0:00:01\r\u001b[K     |████████████▎                   | 286 kB 30.7 MB/s eta 0:00:01\r\u001b[K     |████████████▊                   | 296 kB 30.7 MB/s eta 0:00:01\r\u001b[K     |█████████████▏                  | 307 kB 30.7 MB/s eta 0:00:01\r\u001b[K     |█████████████▋                  | 317 kB 30.7 MB/s eta 0:00:01\r\u001b[K     |██████████████                  | 327 kB 30.7 MB/s eta 0:00:01\r\u001b[K     |██████████████▌                 | 337 kB 30.7 MB/s eta 0:00:01\r\u001b[K     |███████████████                 | 348 kB 30.7 MB/s eta 0:00:01\r\u001b[K     |███████████████▍                | 358 kB 30.7 MB/s eta 0:00:01\r\u001b[K     |███████████████▉                | 368 kB 30.7 MB/s eta 0:00:01\r\u001b[K     |████████████████▎               | 378 kB 30.7 MB/s eta 0:00:01\r\u001b[K     |████████████████▊               | 389 kB 30.7 MB/s eta 0:00:01\r\u001b[K     |█████████████████▏              | 399 kB 30.7 MB/s eta 0:00:01\r\u001b[K     |█████████████████▋              | 409 kB 30.7 MB/s eta 0:00:01\r\u001b[K     |██████████████████              | 419 kB 30.7 MB/s eta 0:00:01\r\u001b[K     |██████████████████▌             | 430 kB 30.7 MB/s eta 0:00:01\r\u001b[K     |███████████████████             | 440 kB 30.7 MB/s eta 0:00:01\r\u001b[K     |███████████████████▍            | 450 kB 30.7 MB/s eta 0:00:01\r\u001b[K     |███████████████████▉            | 460 kB 30.7 MB/s eta 0:00:01\r\u001b[K     |████████████████████▎           | 471 kB 30.7 MB/s eta 0:00:01\r\u001b[K     |████████████████████▋           | 481 kB 30.7 MB/s eta 0:00:01\r\u001b[K     |█████████████████████           | 491 kB 30.7 MB/s eta 0:00:01\r\u001b[K     |█████████████████████▌          | 501 kB 30.7 MB/s eta 0:00:01\r\u001b[K     |██████████████████████          | 512 kB 30.7 MB/s eta 0:00:01\r\u001b[K     |██████████████████████▍         | 522 kB 30.7 MB/s eta 0:00:01\r\u001b[K     |██████████████████████▉         | 532 kB 30.7 MB/s eta 0:00:01\r\u001b[K     |███████████████████████▎        | 542 kB 30.7 MB/s eta 0:00:01\r\u001b[K     |███████████████████████▊        | 552 kB 30.7 MB/s eta 0:00:01\r\u001b[K     |████████████████████████▏       | 563 kB 30.7 MB/s eta 0:00:01\r\u001b[K     |████████████████████████▋       | 573 kB 30.7 MB/s eta 0:00:01\r\u001b[K     |█████████████████████████       | 583 kB 30.7 MB/s eta 0:00:01\r\u001b[K     |█████████████████████████▌      | 593 kB 30.7 MB/s eta 0:00:01\r\u001b[K     |██████████████████████████      | 604 kB 30.7 MB/s eta 0:00:01\r\u001b[K     |██████████████████████████▍     | 614 kB 30.7 MB/s eta 0:00:01\r\u001b[K     |██████████████████████████▉     | 624 kB 30.7 MB/s eta 0:00:01\r\u001b[K     |███████████████████████████▎    | 634 kB 30.7 MB/s eta 0:00:01\r\u001b[K     |███████████████████████████▊    | 645 kB 30.7 MB/s eta 0:00:01\r\u001b[K     |████████████████████████████▏   | 655 kB 30.7 MB/s eta 0:00:01\r\u001b[K     |████████████████████████████▋   | 665 kB 30.7 MB/s eta 0:00:01\r\u001b[K     |█████████████████████████████   | 675 kB 30.7 MB/s eta 0:00:01\r\u001b[K     |█████████████████████████████▌  | 686 kB 30.7 MB/s eta 0:00:01\r\u001b[K     |██████████████████████████████  | 696 kB 30.7 MB/s eta 0:00:01\r\u001b[K     |██████████████████████████████▍ | 706 kB 30.7 MB/s eta 0:00:01\r\u001b[K     |██████████████████████████████▊ | 716 kB 30.7 MB/s eta 0:00:01\r\u001b[K     |███████████████████████████████▏| 727 kB 30.7 MB/s eta 0:00:01\r\u001b[K     |███████████████████████████████▋| 737 kB 30.7 MB/s eta 0:00:01\r\u001b[K     |████████████████████████████████| 745 kB 30.7 MB/s \n",
            "\u001b[?25h  Building wheel for pyngrok (setup.py) ... \u001b[?25l\u001b[?25hdone\n"
          ]
        }
      ]
    },
    {
      "cell_type": "markdown",
      "metadata": {
        "id": "ic15OJwXw7Xv"
      },
      "source": [
        "##2° Instalar o Pacote para Implementação do nosso Sistema na WEB"
      ]
    },
    {
      "cell_type": "code",
      "metadata": {
        "id": "dSIEmVidDx_G",
        "colab": {
          "base_uri": "https://localhost:8080/"
        },
        "outputId": "3be9d0fb-272e-49e8-c0d3-40723f5c34c2"
      },
      "source": [
        "#instalação dos Pacotes para Implementação do nosso Sistema na WEB\n",
        "!pip install -q streamlit\n",
        "!pip install -q streamlit_ace\n"
      ],
      "execution_count": null,
      "outputs": [
        {
          "output_type": "stream",
          "name": "stdout",
          "text": [
            "\u001b[K     |████████████████████████████████| 8.3 MB 40.1 MB/s \n",
            "\u001b[K     |████████████████████████████████| 180 kB 45.6 MB/s \n",
            "\u001b[K     |████████████████████████████████| 76 kB 5.0 MB/s \n",
            "\u001b[K     |████████████████████████████████| 4.3 MB 36.0 MB/s \n",
            "\u001b[K     |████████████████████████████████| 111 kB 48.2 MB/s \n",
            "\u001b[K     |████████████████████████████████| 63 kB 1.8 MB/s \n",
            "\u001b[K     |████████████████████████████████| 124 kB 59.0 MB/s \n",
            "\u001b[K     |████████████████████████████████| 788 kB 42.0 MB/s \n",
            "\u001b[K     |████████████████████████████████| 374 kB 49.2 MB/s \n",
            "\u001b[?25h  Building wheel for blinker (setup.py) ... \u001b[?25l\u001b[?25hdone\n",
            "\u001b[31mERROR: pip's dependency resolver does not currently take into account all the packages that are installed. This behaviour is the source of the following dependency conflicts.\n",
            "jupyter-console 5.2.0 requires prompt-toolkit<2.0.0,>=1.0.0, but you have prompt-toolkit 3.0.21 which is incompatible.\n",
            "google-colab 1.0.0 requires ipykernel~=4.10, but you have ipykernel 6.4.2 which is incompatible.\n",
            "google-colab 1.0.0 requires ipython~=5.5.0, but you have ipython 7.28.0 which is incompatible.\u001b[0m\n",
            "\u001b[K     |████████████████████████████████| 2.6 MB 20.7 MB/s \n",
            "\u001b[?25h"
          ]
        }
      ]
    },
    {
      "cell_type": "markdown",
      "metadata": {
        "id": "FuX_oCBC2Ylp"
      },
      "source": [
        "## 3° Criar o Sistema  "
      ]
    },
    {
      "cell_type": "code",
      "metadata": {
        "id": "1ydtW0TPEY7t",
        "colab": {
          "base_uri": "https://localhost:8080/"
        },
        "outputId": "dd017633-f058-44c3-d08d-fb5c45062ce4"
      },
      "source": [
        "#Comando para Criar o Sistema no arquivo app.py\n",
        "%%writefile app.py\n",
        "\n",
        "#Importando Pacotes \n",
        "import pickle\n",
        "import streamlit as st\n",
        " \n",
        "# Carregando a Máquina Preditiva\n",
        "pickle_in = open('maquina_preditiva.pkl', 'rb') \n",
        "maquina_preditiva = pickle.load(pickle_in)\n",
        "\n",
        "#Manter a sessão em cache \n",
        "@st.cache()\n",
        "  \n",
        "# Criando a função que irá fazer a predição usando os dados impostados pelo usuário do Sistema \n",
        "def prediction(sexo, estado_civil, renda, emprestimo, historico_credito):   \n",
        " \n",
        "    # Pre-processando a entrada do Usuário    \n",
        "    if sexo == \"Masculino\":\n",
        "        sexo = 0\n",
        "    else:\n",
        "        sexo = 1\n",
        " \n",
        "    if estado_civil == \"Solteiro(a)\":\n",
        "        estado_civil = 0\n",
        "    else:\n",
        "        estado_civil = 1\n",
        " \n",
        "    if historico_credito == \"Débitos Pendentes\":\n",
        "        historico_credito = 0\n",
        "    else:\n",
        "        historico_credito = 1  \n",
        " \n",
        "    emprestimo = emprestimo / 1000\n",
        " \n",
        "    # Fazendo Predições\n",
        "    prediction = maquina_preditiva.predict( \n",
        "        [[sexo, estado_civil, renda, emprestimo, historico_credito]])\n",
        "     \n",
        "    if prediction == 0:\n",
        "        pred = 'Rejeitado'\n",
        "    else:\n",
        "        pred = 'Aprovado'\n",
        "    return pred\n",
        "      \n",
        "  \n",
        "# Essa função é para criação da webpage  \n",
        "def main():  \n",
        "\n",
        "    # Elementos da webpage\n",
        "    # Nesse Ponto vc deve Personalizar o Sistema com sua Marca\n",
        "    html_temp = \"\"\" \n",
        "    <div style =\"background-color:blue;padding:13px\"> \n",
        "    <h1 style =\"color:white;text-align:center;\">SAE</h1> \n",
        "    <h2 style =\"color:white;text-align:center;\">Sistema</h2> \n",
        "    </div> \n",
        "    \"\"\"\n",
        "      \n",
        "    # Função do stramlit que faz o display da webpage\n",
        "    st.markdown(html_temp, unsafe_allow_html = True) \n",
        "      \n",
        "    # As linhas abaixo criam as caixas na qual o usuário vai entrar com dados da pessoa que quer o empréstimo para fazer a Predição\n",
        "    sexo = st.selectbox('Sexo',(\"Masculino\",\"Feminino\"))\n",
        "    estado_civil = st.selectbox('Estado Civil',(\"Solteiro(a)\",\"Casado(a)\")) \n",
        "    renda = st.number_input(\"Renda Mensal\") \n",
        "    emprestimo = st.number_input(\"Valor Total do Empréstimo\")\n",
        "    historico_credito = st.selectbox('Histórico de Créditos',(\"Sem Débitos\",\"Débitos Pendentes\"))\n",
        "    result =\"\"\n",
        "      \n",
        "    #Quando o Usuário clicar no botão \"Verificar\" a Máquina Preditiva faz seu trabalho\n",
        "    if st.button(\"Verificar\"): \n",
        "        result = prediction(sexo, estado_civil, renda, emprestimo, historico_credito) \n",
        "        st.success('O empréstimo foi {}'.format(result))\n",
        "        print(emprestimo)\n",
        "     \n",
        "if __name__=='__main__': \n",
        "    main()\n"
      ],
      "execution_count": null,
      "outputs": [
        {
          "output_type": "stream",
          "name": "stdout",
          "text": [
            "Writing app.py\n"
          ]
        }
      ]
    },
    {
      "cell_type": "markdown",
      "metadata": {
        "id": "BEDDT7-SxQ_V"
      },
      "source": [
        "##4° Executar o Sistema"
      ]
    },
    {
      "cell_type": "code",
      "metadata": {
        "id": "XZNzucf0EZIa"
      },
      "source": [
        "#Executa o sistema\n",
        "!streamlit run app.py &>/dev/null&"
      ],
      "execution_count": null,
      "outputs": []
    },
    {
      "cell_type": "markdown",
      "metadata": {
        "id": "QwFdBpu_xamW"
      },
      "source": [
        "##5° Criar a Conexão do nosso Sistema na WEB"
      ]
    },
    {
      "cell_type": "code",
      "metadata": {
        "id": "LZ5jaY4GGC88"
      },
      "source": [
        "# Importando a Biblioteca para Conexão do nosso Sistema na WEB \n",
        "from pyngrok import ngrok"
      ],
      "execution_count": null,
      "outputs": []
    },
    {
      "cell_type": "markdown",
      "metadata": {
        "id": "zyWvfoAMxhAc"
      },
      "source": [
        "##6° Publicar nosso Sistema numa URL"
      ]
    },
    {
      "cell_type": "code",
      "metadata": {
        "id": "r8VfOxWzUmiK",
        "colab": {
          "base_uri": "https://localhost:8080/"
        },
        "outputId": "af3b37a9-983d-403d-8472-76d8c102ce43"
      },
      "source": [
        "#Publica o sistema numa URL\n",
        "public_url = ngrok.connect('8501')"
      ],
      "execution_count": null,
      "outputs": [
        {
          "output_type": "stream",
          "name": "stdout",
          "text": [
            ""
          ]
        }
      ]
    },
    {
      "cell_type": "markdown",
      "metadata": {
        "id": "6VgBGpnUxn9u"
      },
      "source": [
        "##7° Abrir o Sistema via Link que contém a palavra ngrok.io"
      ]
    },
    {
      "cell_type": "code",
      "metadata": {
        "id": "i3xz6K0kTsiG",
        "colab": {
          "base_uri": "https://localhost:8080/"
        },
        "outputId": "3683b695-ce42-4422-9682-336e189b3af3"
      },
      "source": [
        "#URL do sistema\n",
        "public_url"
      ],
      "execution_count": null,
      "outputs": [
        {
          "output_type": "execute_result",
          "data": {
            "text/plain": [
              "<NgrokTunnel: \"http://808a23b661f1.ngrok.io\" -> \"http://localhost:8501\">"
            ]
          },
          "metadata": {
            "tags": []
          },
          "execution_count": 10
        }
      ]
    },
    {
      "cell_type": "markdown",
      "metadata": {
        "id": "XTRc7NjBKG65"
      },
      "source": [
        "# Fim"
      ]
    }
  ]
}